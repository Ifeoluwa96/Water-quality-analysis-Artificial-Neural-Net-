{
  "nbformat": 4,
  "nbformat_minor": 5,
  "metadata": {
    "kernelspec": {
      "display_name": "Python 3",
      "language": "python",
      "name": "python3"
    },
    "language_info": {
      "codemirror_mode": {
        "name": "ipython",
        "version": 3
      },
      "file_extension": ".py",
      "mimetype": "text/x-python",
      "name": "python",
      "nbconvert_exporter": "python",
      "pygments_lexer": "ipython3",
      "version": "3.8.2"
    },
    "colab": {
      "name": "Project (ANN).ipynb",
      "provenance": []
    },
    "accelerator": "GPU"
  },
  "cells": [
    {
      "cell_type": "code",
      "metadata": {
        "colab": {
          "base_uri": "https://localhost:8080/"
        },
        "id": "xEZK0sZoe-El",
        "outputId": "6751d3e3-34f9-434f-ec9c-dd528d595f62"
      },
      "source": [
        "from google.colab import drive\n",
        "drive.mount('/content/drive')"
      ],
      "id": "xEZK0sZoe-El",
      "execution_count": null,
      "outputs": [
        {
          "output_type": "stream",
          "name": "stdout",
          "text": [
            "Mounted at /content/drive\n"
          ]
        }
      ]
    },
    {
      "cell_type": "markdown",
      "metadata": {
        "id": "alpha-companion"
      },
      "source": [
        "# DEEP LEARNING\n",
        "## Artificial Neural Network"
      ],
      "id": "alpha-companion"
    },
    {
      "cell_type": "code",
      "metadata": {
        "id": "irish-jones"
      },
      "source": [
        "import pandas as pd\n",
        "import numpy as np\n",
        "import matplotlib.pyplot as plt\n",
        "import seaborn as sns"
      ],
      "id": "irish-jones",
      "execution_count": null,
      "outputs": []
    },
    {
      "cell_type": "code",
      "metadata": {
        "id": "coral-corner"
      },
      "source": [
        "df = pd.read_csv('/content/drive/MyDrive/phytoplankton.csv')"
      ],
      "id": "coral-corner",
      "execution_count": null,
      "outputs": []
    },
    {
      "cell_type": "code",
      "metadata": {
        "colab": {
          "base_uri": "https://localhost:8080/",
          "height": 469
        },
        "id": "small-strategy",
        "outputId": "0448768a-b231-4d69-c56c-883b90781736"
      },
      "source": [
        "df.head()"
      ],
      "id": "small-strategy",
      "execution_count": null,
      "outputs": [
        {
          "output_type": "execute_result",
          "data": {
            "text/html": [
              "<div>\n",
              "<style scoped>\n",
              "    .dataframe tbody tr th:only-of-type {\n",
              "        vertical-align: middle;\n",
              "    }\n",
              "\n",
              "    .dataframe tbody tr th {\n",
              "        vertical-align: top;\n",
              "    }\n",
              "\n",
              "    .dataframe thead th {\n",
              "        text-align: right;\n",
              "    }\n",
              "</style>\n",
              "<table border=\"1\" class=\"dataframe\">\n",
              "  <thead>\n",
              "    <tr style=\"text-align: right;\">\n",
              "      <th></th>\n",
              "      <th>Phytoplankton Monitoring Programme results</th>\n",
              "      <th>Unnamed: 1</th>\n",
              "      <th>Unnamed: 2</th>\n",
              "      <th>Unnamed: 3</th>\n",
              "      <th>Unnamed: 4</th>\n",
              "      <th>Unnamed: 5</th>\n",
              "      <th>Unnamed: 6</th>\n",
              "      <th>Unnamed: 7</th>\n",
              "      <th>Unnamed: 8</th>\n",
              "      <th>Unnamed: 9</th>\n",
              "      <th>Unnamed: 10</th>\n",
              "      <th>Unnamed: 11</th>\n",
              "      <th>Unnamed: 12</th>\n",
              "      <th>Unnamed: 13</th>\n",
              "      <th>Unnamed: 14</th>\n",
              "      <th>Unnamed: 15</th>\n",
              "    </tr>\n",
              "  </thead>\n",
              "  <tbody>\n",
              "    <tr>\n",
              "      <th>0</th>\n",
              "      <td>Sample number</td>\n",
              "      <td>Production area</td>\n",
              "      <td>Bed ID</td>\n",
              "      <td>Local authority</td>\n",
              "      <td>Grid reference\\n\\nNote 1</td>\n",
              "      <td>Sampling point</td>\n",
              "      <td>Date sample collected</td>\n",
              "      <td>Alexandrium spp. \\ncells L-1\\n(PSP)</td>\n",
              "      <td>Dinophysiaceae \\ncells L-1\\n(DSP)</td>\n",
              "      <td>Prorocentrum lima \\ncells L-1\\n(DSP)</td>\n",
              "      <td>Pseudo-nitzschia spp. \\ncells L-1\\n(ASP)</td>\n",
              "      <td>Ligulodinium polyedrum \\ncells L-1\\n(Yessotoxin)</td>\n",
              "      <td>Protoceratium reticulatum \\ncells L-1\\n(Yessot...</td>\n",
              "      <td>Prorocentrum cordatum \\ncells L-1\\n(Venerupin)</td>\n",
              "      <td>NaN</td>\n",
              "      <td>NaN</td>\n",
              "    </tr>\n",
              "    <tr>\n",
              "      <th>1</th>\n",
              "      <td>1/21</td>\n",
              "      <td>Solent</td>\n",
              "      <td>B24BK</td>\n",
              "      <td>Southampton PHA</td>\n",
              "      <td>SZ57479794</td>\n",
              "      <td>Browndown</td>\n",
              "      <td>04/01/2021</td>\n",
              "      <td>ND</td>\n",
              "      <td>ND</td>\n",
              "      <td>ND</td>\n",
              "      <td>ND</td>\n",
              "      <td>ND</td>\n",
              "      <td>ND</td>\n",
              "      <td>ND</td>\n",
              "      <td>NaN</td>\n",
              "      <td>NaN</td>\n",
              "    </tr>\n",
              "    <tr>\n",
              "      <th>2</th>\n",
              "      <td>2/21</td>\n",
              "      <td>Southampton Water</td>\n",
              "      <td>B21AT</td>\n",
              "      <td>Southampton PHA</td>\n",
              "      <td>SU48760530</td>\n",
              "      <td>Hamble Estuary</td>\n",
              "      <td>04/01/2021</td>\n",
              "      <td>ND</td>\n",
              "      <td>ND</td>\n",
              "      <td>ND</td>\n",
              "      <td>ND</td>\n",
              "      <td>ND</td>\n",
              "      <td>ND</td>\n",
              "      <td>ND</td>\n",
              "      <td>NaN</td>\n",
              "      <td>NaN</td>\n",
              "    </tr>\n",
              "    <tr>\n",
              "      <th>3</th>\n",
              "      <td>3/21</td>\n",
              "      <td>Brancaster</td>\n",
              "      <td>B05AS</td>\n",
              "      <td>Kings Lynn &amp; W Norfolk BC</td>\n",
              "      <td>TF79884539</td>\n",
              "      <td>Norton Creek Mussels</td>\n",
              "      <td>05/01/2021</td>\n",
              "      <td>ND</td>\n",
              "      <td>ND</td>\n",
              "      <td>ND</td>\n",
              "      <td>400</td>\n",
              "      <td>ND</td>\n",
              "      <td>ND</td>\n",
              "      <td>ND</td>\n",
              "      <td>NaN</td>\n",
              "      <td>NaN</td>\n",
              "    </tr>\n",
              "    <tr>\n",
              "      <th>4</th>\n",
              "      <td>4/21</td>\n",
              "      <td>Porlock</td>\n",
              "      <td>B094D</td>\n",
              "      <td>Somerset West and Taunton Council</td>\n",
              "      <td>SS87114787</td>\n",
              "      <td>Porlock East</td>\n",
              "      <td>05/01/2021</td>\n",
              "      <td>ND</td>\n",
              "      <td>ND</td>\n",
              "      <td>ND</td>\n",
              "      <td>ND</td>\n",
              "      <td>ND</td>\n",
              "      <td>ND</td>\n",
              "      <td>ND</td>\n",
              "      <td>NaN</td>\n",
              "      <td>NaN</td>\n",
              "    </tr>\n",
              "  </tbody>\n",
              "</table>\n",
              "</div>"
            ],
            "text/plain": [
              "  Phytoplankton Monitoring Programme results  ... Unnamed: 15\n",
              "0                              Sample number  ...         NaN\n",
              "1                                       1/21  ...         NaN\n",
              "2                                       2/21  ...         NaN\n",
              "3                                       3/21  ...         NaN\n",
              "4                                       4/21  ...         NaN\n",
              "\n",
              "[5 rows x 16 columns]"
            ]
          },
          "metadata": {},
          "execution_count": 5
        }
      ]
    },
    {
      "cell_type": "code",
      "source": [
        "df.shape"
      ],
      "metadata": {
        "colab": {
          "base_uri": "https://localhost:8080/"
        },
        "id": "Gi18wmedGit0",
        "outputId": "8b42e8b3-d2cb-46a6-890b-43766aedeacf"
      },
      "id": "Gi18wmedGit0",
      "execution_count": null,
      "outputs": [
        {
          "output_type": "execute_result",
          "data": {
            "text/plain": [
              "(882, 16)"
            ]
          },
          "metadata": {},
          "execution_count": 6
        }
      ]
    },
    {
      "cell_type": "markdown",
      "metadata": {
        "id": "integrated-blocking"
      },
      "source": [
        "## Data Cleaning"
      ],
      "id": "integrated-blocking"
    },
    {
      "cell_type": "code",
      "metadata": {
        "id": "turkish-idaho"
      },
      "source": [
        "new_header = df.iloc[0] #grab the first row for the header \n",
        "df = df[1:] #take the data less the header row \n",
        "df.columns = new_header #set the header row as the df header \n",
        "df = df[:828] "
      ],
      "id": "turkish-idaho",
      "execution_count": null,
      "outputs": []
    },
    {
      "cell_type": "code",
      "metadata": {
        "colab": {
          "base_uri": "https://localhost:8080/"
        },
        "id": "advanced-macro",
        "outputId": "827ab598-d9c2-44f7-acce-93fa1925a841"
      },
      "source": [
        "df.isnull().sum()"
      ],
      "id": "advanced-macro",
      "execution_count": null,
      "outputs": [
        {
          "output_type": "execute_result",
          "data": {
            "text/plain": [
              "0\n",
              "Sample number                                             0\n",
              "Production area                                           1\n",
              "Bed ID                                                    1\n",
              "Local authority                                           0\n",
              "Grid reference\\n\\nNote 1                                  1\n",
              "Sampling point                                            0\n",
              "Date sample collected                                     0\n",
              "Alexandrium spp. \\ncells L-1\\n(PSP)                       0\n",
              "Dinophysiaceae \\ncells L-1\\n(DSP)                         1\n",
              "Prorocentrum lima \\ncells L-1\\n(DSP)                      1\n",
              "Pseudo-nitzschia spp. \\ncells L-1\\n(ASP)                  1\n",
              "Ligulodinium polyedrum \\ncells L-1\\n(Yessotoxin)          1\n",
              "Protoceratium reticulatum \\ncells L-1\\n(Yessotoxin)       0\n",
              "Prorocentrum cordatum \\ncells L-1\\n(Venerupin)            0\n",
              "NaN                                                     828\n",
              "NaN                                                     828\n",
              "dtype: int64"
            ]
          },
          "metadata": {},
          "execution_count": 8
        }
      ]
    },
    {
      "cell_type": "code",
      "metadata": {
        "id": "thermal-instrumentation"
      },
      "source": [
        "def clean_data(df):\n",
        "    df[\"Alexandrium spp. \\ncells L-1\\n(PSP)\"] = df[\"Alexandrium spp. \\ncells L-1\\n(PSP)\"].replace(\"ND\", 0) \n",
        "    df[\"Pseudo-nitzschia spp. \\ncells L-1\\n(ASP) \"] = df[\"Pseudo-nitzschia spp. \\ncells L-1\\n(ASP) \"].replace(\"ND\", 0) \n",
        "    df[\"Dinophysiaceae \\ncells L-1\\n(DSP)\"] = df[\"Dinophysiaceae \\ncells L-1\\n(DSP)\"].replace(\"ND\", 0) \n",
        "    df[\"Prorocentrum lima \\ncells L-1\\n(DSP)\"] = df[\"Prorocentrum lima \\ncells L-1\\n(DSP)\"].replace(\"ND\", 0)   \n",
        "\n",
        "    df[\"Alexandrium spp. \\ncells L-1\\n(PSP)\"] = pd.to_numeric(df[\"Alexandrium spp. \\ncells L-1\\n(PSP)\"], errors='coerce') \n",
        "    df[\"Pseudo-nitzschia spp. \\ncells L-1\\n(ASP) \"] = pd.to_numeric(df[\"Pseudo-nitzschia spp. \\ncells L-1\\n(ASP) \"], errors='coerce')      \n",
        "    df[\"Dinophysiaceae \\ncells L-1\\n(DSP)\"] = pd.to_numeric(df[\"Dinophysiaceae \\ncells L-1\\n(DSP)\"], errors='coerce')      \n",
        "    df[\"Prorocentrum lima \\ncells L-1\\n(DSP)\"] = pd.to_numeric(df[\"Prorocentrum lima \\ncells L-1\\n(DSP)\"], errors='coerce')  \n",
        "  \n",
        "    df[\"Alexandrium spp. \\ncells L-1\\n(PSP)\"] = df[\"Alexandrium spp. \\ncells L-1\\n(PSP)\"].fillna(-1) \n",
        "    df[\"Pseudo-nitzschia spp. \\ncells L-1\\n(ASP) \"] = df[\"Pseudo-nitzschia spp. \\ncells L-1\\n(ASP) \"].fillna(-1) \n",
        "    df[\"Dinophysiaceae \\ncells L-1\\n(DSP)\"] = df[\"Dinophysiaceae \\ncells L-1\\n(DSP)\"].fillna(-1) \n",
        "    df[\"Prorocentrum lima \\ncells L-1\\n(DSP)\"] = df[\"Prorocentrum lima \\ncells L-1\\n(DSP)\"].fillna(-1)"
      ],
      "id": "thermal-instrumentation",
      "execution_count": null,
      "outputs": []
    },
    {
      "cell_type": "code",
      "metadata": {
        "colab": {
          "base_uri": "https://localhost:8080/",
          "height": 452
        },
        "id": "collectible-policy",
        "outputId": "620c90a0-d8e7-428d-b8eb-b2d7587ac662"
      },
      "source": [
        "clean_data(df)\n",
        "df.head()"
      ],
      "id": "collectible-policy",
      "execution_count": null,
      "outputs": [
        {
          "output_type": "execute_result",
          "data": {
            "text/html": [
              "<div>\n",
              "<style scoped>\n",
              "    .dataframe tbody tr th:only-of-type {\n",
              "        vertical-align: middle;\n",
              "    }\n",
              "\n",
              "    .dataframe tbody tr th {\n",
              "        vertical-align: top;\n",
              "    }\n",
              "\n",
              "    .dataframe thead th {\n",
              "        text-align: right;\n",
              "    }\n",
              "</style>\n",
              "<table border=\"1\" class=\"dataframe\">\n",
              "  <thead>\n",
              "    <tr style=\"text-align: right;\">\n",
              "      <th></th>\n",
              "      <th>Sample number</th>\n",
              "      <th>Production area</th>\n",
              "      <th>Bed ID</th>\n",
              "      <th>Local authority</th>\n",
              "      <th>Grid reference\\n\\nNote 1</th>\n",
              "      <th>Sampling point</th>\n",
              "      <th>Date sample collected</th>\n",
              "      <th>Alexandrium spp. \\ncells L-1\\n(PSP)</th>\n",
              "      <th>Dinophysiaceae \\ncells L-1\\n(DSP)</th>\n",
              "      <th>Prorocentrum lima \\ncells L-1\\n(DSP)</th>\n",
              "      <th>Pseudo-nitzschia spp. \\ncells L-1\\n(ASP)</th>\n",
              "      <th>Ligulodinium polyedrum \\ncells L-1\\n(Yessotoxin)</th>\n",
              "      <th>Protoceratium reticulatum \\ncells L-1\\n(Yessotoxin)</th>\n",
              "      <th>Prorocentrum cordatum \\ncells L-1\\n(Venerupin)</th>\n",
              "      <th>NaN</th>\n",
              "      <th>NaN</th>\n",
              "    </tr>\n",
              "  </thead>\n",
              "  <tbody>\n",
              "    <tr>\n",
              "      <th>1</th>\n",
              "      <td>1/21</td>\n",
              "      <td>Solent</td>\n",
              "      <td>B24BK</td>\n",
              "      <td>Southampton PHA</td>\n",
              "      <td>SZ57479794</td>\n",
              "      <td>Browndown</td>\n",
              "      <td>04/01/2021</td>\n",
              "      <td>0.0</td>\n",
              "      <td>0.0</td>\n",
              "      <td>0.0</td>\n",
              "      <td>0.0</td>\n",
              "      <td>ND</td>\n",
              "      <td>ND</td>\n",
              "      <td>ND</td>\n",
              "      <td>NaN</td>\n",
              "      <td>NaN</td>\n",
              "    </tr>\n",
              "    <tr>\n",
              "      <th>2</th>\n",
              "      <td>2/21</td>\n",
              "      <td>Southampton Water</td>\n",
              "      <td>B21AT</td>\n",
              "      <td>Southampton PHA</td>\n",
              "      <td>SU48760530</td>\n",
              "      <td>Hamble Estuary</td>\n",
              "      <td>04/01/2021</td>\n",
              "      <td>0.0</td>\n",
              "      <td>0.0</td>\n",
              "      <td>0.0</td>\n",
              "      <td>0.0</td>\n",
              "      <td>ND</td>\n",
              "      <td>ND</td>\n",
              "      <td>ND</td>\n",
              "      <td>NaN</td>\n",
              "      <td>NaN</td>\n",
              "    </tr>\n",
              "    <tr>\n",
              "      <th>3</th>\n",
              "      <td>3/21</td>\n",
              "      <td>Brancaster</td>\n",
              "      <td>B05AS</td>\n",
              "      <td>Kings Lynn &amp; W Norfolk BC</td>\n",
              "      <td>TF79884539</td>\n",
              "      <td>Norton Creek Mussels</td>\n",
              "      <td>05/01/2021</td>\n",
              "      <td>0.0</td>\n",
              "      <td>0.0</td>\n",
              "      <td>0.0</td>\n",
              "      <td>400.0</td>\n",
              "      <td>ND</td>\n",
              "      <td>ND</td>\n",
              "      <td>ND</td>\n",
              "      <td>NaN</td>\n",
              "      <td>NaN</td>\n",
              "    </tr>\n",
              "    <tr>\n",
              "      <th>4</th>\n",
              "      <td>4/21</td>\n",
              "      <td>Porlock</td>\n",
              "      <td>B094D</td>\n",
              "      <td>Somerset West and Taunton Council</td>\n",
              "      <td>SS87114787</td>\n",
              "      <td>Porlock East</td>\n",
              "      <td>05/01/2021</td>\n",
              "      <td>0.0</td>\n",
              "      <td>0.0</td>\n",
              "      <td>0.0</td>\n",
              "      <td>0.0</td>\n",
              "      <td>ND</td>\n",
              "      <td>ND</td>\n",
              "      <td>ND</td>\n",
              "      <td>NaN</td>\n",
              "      <td>NaN</td>\n",
              "    </tr>\n",
              "    <tr>\n",
              "      <th>5</th>\n",
              "      <td>5/21</td>\n",
              "      <td>Blackwater</td>\n",
              "      <td>B14AD</td>\n",
              "      <td>Maldon DC</td>\n",
              "      <td>TM04060768</td>\n",
              "      <td>St Peters Flats</td>\n",
              "      <td>06/01/2021</td>\n",
              "      <td>0.0</td>\n",
              "      <td>0.0</td>\n",
              "      <td>0.0</td>\n",
              "      <td>0.0</td>\n",
              "      <td>ND</td>\n",
              "      <td>ND</td>\n",
              "      <td>ND</td>\n",
              "      <td>NaN</td>\n",
              "      <td>NaN</td>\n",
              "    </tr>\n",
              "  </tbody>\n",
              "</table>\n",
              "</div>"
            ],
            "text/plain": [
              "0 Sample number    Production area  ... NaN NaN\n",
              "1          1/21             Solent  ... NaN NaN\n",
              "2          2/21  Southampton Water  ... NaN NaN\n",
              "3          3/21         Brancaster  ... NaN NaN\n",
              "4          4/21            Porlock  ... NaN NaN\n",
              "5          5/21         Blackwater  ... NaN NaN\n",
              "\n",
              "[5 rows x 16 columns]"
            ]
          },
          "metadata": {},
          "execution_count": 10
        }
      ]
    },
    {
      "cell_type": "markdown",
      "metadata": {
        "id": "optical-frequency"
      },
      "source": [
        "## Data Labelling"
      ],
      "id": "optical-frequency"
    },
    {
      "cell_type": "code",
      "metadata": {
        "id": "fundamental-premiere"
      },
      "source": [
        "thresholds = {\"Alexandrium spp. \\ncells L-1\\n(PSP)\" : 40, \"Dinophysiaceae \\ncells L-1\\n(DSP)\" : 100, \"Prorocentrum lima \\ncells L-1\\n(DSP)\" : 100, \"Pseudo-nitzschia spp. \\ncells L-1\\n(ASP) \" : 150000} "
      ],
      "id": "fundamental-premiere",
      "execution_count": null,
      "outputs": []
    },
    {
      "cell_type": "code",
      "metadata": {
        "id": "crucial-specification"
      },
      "source": [
        "def check_thresholds(df): \n",
        "    t = [] \n",
        "    for i,j in enumerate(df[\"Sample number\"]): \n",
        "\n",
        "        alexandrium = df.iloc[i][\"Alexandrium spp. \\ncells L-1\\n(PSP)\"]    \n",
        "        pseudo_nitzschia = df.iloc[i][\"Pseudo-nitzschia spp. \\ncells L-1\\n(ASP) \"] \n",
        "        dinophysiaceae = df.iloc[i][\"Dinophysiaceae \\ncells L-1\\n(DSP)\"] \n",
        "        prorocentrum = df.iloc[i][\"Prorocentrum lima \\ncells L-1\\n(DSP)\"] \n",
        "\n",
        "        threshold_reached = 0 \n",
        "        if pseudo_nitzschia >= thresholds[\"Pseudo-nitzschia spp. \\ncells L-1\\n(ASP) \"]: \n",
        "            threshold_reached = 1 \n",
        "        elif dinophysiaceae >= thresholds[\"Dinophysiaceae \\ncells L-1\\n(DSP)\"]: \n",
        "            threshold_reached = 1 \n",
        "        elif prorocentrum >= thresholds[\"Prorocentrum lima \\ncells L-1\\n(DSP)\"]: \n",
        "            threshold_reached = 1                \n",
        "        elif alexandrium >= thresholds[\"Alexandrium spp. \\ncells L-1\\n(PSP)\"]: \n",
        "            threshold_reached = 1                \n",
        "       \n",
        "        t.append(threshold_reached) \n",
        "     \n",
        "    return t "
      ],
      "id": "crucial-specification",
      "execution_count": null,
      "outputs": []
    },
    {
      "cell_type": "code",
      "metadata": {
        "id": "plain-diagnosis"
      },
      "source": [
        "thresholds_reached = check_thresholds(df) \n",
        "df['thresholds_reached'] = thresholds_reached \n",
        "#pd.DataFrame.to_csv(df, '/Users/wuraolaifeoluwa/Documents/Rasheed data doc/datasets/thresholds_cleaned.csv', sep=',', index=False) "
      ],
      "id": "plain-diagnosis",
      "execution_count": null,
      "outputs": []
    },
    {
      "cell_type": "code",
      "metadata": {
        "id": "national-cutting"
      },
      "source": [
        "x = pd.read_csv('/content/drive/MyDrive/thresholds_cleaned.csv', usecols=[\"Pseudo-nitzschia spp. \\ncells L-1\\n(ASP) \", \"Dinophysiaceae \\ncells L-1\\n(DSP)\", \"Prorocentrum lima \\ncells L-1\\n(DSP)\", \"Alexandrium spp. \\ncells L-1\\n(PSP)\"], na_values = ['no info', '.']) \n",
        "y = pd.read_csv('/content/drive/MyDrive/thresholds_cleaned.csv', usecols=[\"thresholds_reached\"]) "
      ],
      "id": "national-cutting",
      "execution_count": null,
      "outputs": []
    },
    {
      "cell_type": "code",
      "metadata": {
        "id": "satisfactory-animation"
      },
      "source": [
        "from sklearn.model_selection import train_test_split \n",
        "x_train, x_test, y_train, y_test = train_test_split(x, y, test_size=0.20, random_state=42)"
      ],
      "id": "satisfactory-animation",
      "execution_count": null,
      "outputs": []
    },
    {
      "cell_type": "code",
      "metadata": {
        "id": "derived-maine"
      },
      "source": [
        "import keras \n",
        "from keras.models import Sequential \n",
        "from keras.layers import Dense, Dropout \n",
        "from keras.optimizers import * \n",
        "from keras.utils import np_utils "
      ],
      "id": "derived-maine",
      "execution_count": null,
      "outputs": []
    },
    {
      "cell_type": "code",
      "metadata": {
        "colab": {
          "base_uri": "https://localhost:8080/"
        },
        "id": "3IDB6BskhGrA",
        "outputId": "23856667-44f1-496f-cb70-5c894360609c"
      },
      "source": [
        "model = Sequential() \n",
        "model.add(Dense(units=1000, activation='relu', input_shape=(4,))) \n",
        "model.add(Dropout(0.9)) \n",
        "model.add(Dense(units=5, activation='relu')) \n",
        "model.add(Dropout(0.2)) \n",
        "model.add(Dense(1, activation='relu'))\n",
        "\n",
        "model.summary() \n",
        "model.compile(loss='categorical_crossentropy', \n",
        "              optimizer='adam', \n",
        "              metrics=['accuracy'])"
      ],
      "id": "3IDB6BskhGrA",
      "execution_count": null,
      "outputs": [
        {
          "output_type": "stream",
          "name": "stdout",
          "text": [
            "Model: \"sequential\"\n",
            "_________________________________________________________________\n",
            " Layer (type)                Output Shape              Param #   \n",
            "=================================================================\n",
            " dense (Dense)               (None, 1000)              5000      \n",
            "                                                                 \n",
            " dropout (Dropout)           (None, 1000)              0         \n",
            "                                                                 \n",
            " dense_1 (Dense)             (None, 5)                 5005      \n",
            "                                                                 \n",
            " dropout_1 (Dropout)         (None, 5)                 0         \n",
            "                                                                 \n",
            " dense_2 (Dense)             (None, 1)                 6         \n",
            "                                                                 \n",
            "=================================================================\n",
            "Total params: 10,011\n",
            "Trainable params: 10,011\n",
            "Non-trainable params: 0\n",
            "_________________________________________________________________\n"
          ]
        }
      ]
    },
    {
      "cell_type": "code",
      "metadata": {
        "colab": {
          "base_uri": "https://localhost:8080/"
        },
        "id": "controversial-think",
        "outputId": "ff12e0f7-21eb-4575-b445-ea5e35220067"
      },
      "source": [
        "%%time\n",
        "history = model.fit(x_train, y_train, \n",
        "                    batch_size=16, \n",
        "                    epochs=10, \n",
        "                    verbose=1, \n",
        "                    validation_data=(x_test, y_test))\n",
        "\n",
        "score = model.evaluate(x_test, y_test, verbose=0) \n",
        "print('Test loss:', score[0]) \n",
        "print('Test accuracy:', score[1])"
      ],
      "id": "controversial-think",
      "execution_count": null,
      "outputs": [
        {
          "output_type": "stream",
          "name": "stdout",
          "text": [
            "Epoch 1/10\n",
            "42/42 [==============================] - 0s 4ms/step - loss: nan - accuracy: 0.8837 - val_loss: nan - val_accuracy: 0.8916\n",
            "Epoch 2/10\n",
            "42/42 [==============================] - 0s 3ms/step - loss: nan - accuracy: 0.8837 - val_loss: nan - val_accuracy: 0.8916\n",
            "Epoch 3/10\n",
            "42/42 [==============================] - 0s 3ms/step - loss: nan - accuracy: 0.8837 - val_loss: nan - val_accuracy: 0.8916\n",
            "Epoch 4/10\n",
            "42/42 [==============================] - 0s 3ms/step - loss: nan - accuracy: 0.8837 - val_loss: nan - val_accuracy: 0.8916\n",
            "Epoch 5/10\n",
            "42/42 [==============================] - 0s 3ms/step - loss: nan - accuracy: 0.8837 - val_loss: nan - val_accuracy: 0.8916\n",
            "Epoch 6/10\n",
            "42/42 [==============================] - 0s 3ms/step - loss: nan - accuracy: 0.8837 - val_loss: nan - val_accuracy: 0.8916\n",
            "Epoch 7/10\n",
            "42/42 [==============================] - 0s 3ms/step - loss: nan - accuracy: 0.8837 - val_loss: nan - val_accuracy: 0.8916\n",
            "Epoch 8/10\n",
            "42/42 [==============================] - 0s 3ms/step - loss: nan - accuracy: 0.8837 - val_loss: nan - val_accuracy: 0.8916\n",
            "Epoch 9/10\n",
            "42/42 [==============================] - 0s 3ms/step - loss: nan - accuracy: 0.8837 - val_loss: nan - val_accuracy: 0.8916\n",
            "Epoch 10/10\n",
            "42/42 [==============================] - 0s 4ms/step - loss: nan - accuracy: 0.8837 - val_loss: nan - val_accuracy: 0.8916\n",
            "Test loss: nan\n",
            "Test accuracy: 0.891566276550293\n",
            "CPU times: user 1.67 s, sys: 92.5 ms, total: 1.77 s\n",
            "Wall time: 2.69 s\n"
          ]
        }
      ]
    },
    {
      "cell_type": "code",
      "metadata": {
        "colab": {
          "base_uri": "https://localhost:8080/",
          "height": 499
        },
        "id": "normal-message",
        "outputId": "28f366f8-96fd-42b0-de08-3bac89f15ac9"
      },
      "source": [
        "epochs=10\n",
        "acc = history.history['accuracy'] \n",
        "val_acc = history.history['val_accuracy'] \n",
        "loss = history.history['loss'] \n",
        "val_loss = history.history['val_loss'] \n",
        "epochs_range = range(epochs) \n",
        "\n",
        "plt.figure(figsize=(8, 8)) \n",
        "plt.plot(epochs_range, acc, label='Training Accuracy') \n",
        "plt.plot(epochs_range, val_acc, label='Validation Accuracy') \n",
        "\n",
        "plt.legend(loc='lower right') \n",
        "plt.title('Training and Validation Accuracy') \n",
        "plt.plot(epochs_range, loss, label='Training Loss') \n",
        "plt.plot(epochs_range, val_loss, label='Validation Loss') \n",
        "plt.legend(loc='upper right') \n",
        "\n",
        "plt.title('Training and Validation Loss') \n",
        "plt.savefig(\"water_quality_nn.pdf\", dpi=100) \n",
        "plt.show()"
      ],
      "id": "normal-message",
      "execution_count": null,
      "outputs": [
        {
          "output_type": "display_data",
          "data": {
            "image/png": "[encoded data removed]",
            "text/plain": [
              "<Figure size 576x576 with 1 Axes>"
            ]
          },
          "metadata": {
            "needs_background": "light"
          }
        }
      ]
    },
    {
      "cell_type": "markdown",
      "metadata": {
        "id": "dying-departure"
      },
      "source": [
        "## 4. Data augmentation "
      ],
      "id": "dying-departure"
    },
    {
      "cell_type": "code",
      "metadata": {
        "id": "separated-importance"
      },
      "source": [
        "predictions = np.zeros(len(x_test))"
      ],
      "id": "separated-importance",
      "execution_count": null,
      "outputs": []
    },
    {
      "cell_type": "code",
      "metadata": {
        "colab": {
          "base_uri": "https://localhost:8080/"
        },
        "id": "convertible-headline",
        "outputId": "ba6cc3ca-01f3-49af-d1b6-440c0c717182"
      },
      "source": [
        "print(\"Before OverSampling, counts of label '1': {}\".format(sum(y[\"thresholds_reached\"] == 1))) \n",
        "print(\"Before OverSampling, counts of label '0': {} \\n\".format(sum(y[\"thresholds_reached\"] == 0)))"
      ],
      "id": "convertible-headline",
      "execution_count": null,
      "outputs": [
        {
          "output_type": "stream",
          "name": "stdout",
          "text": [
            "Before OverSampling, counts of label '1': 95\n",
            "Before OverSampling, counts of label '0': 733 \n",
            "\n"
          ]
        }
      ]
    },
    {
      "cell_type": "code",
      "metadata": {
        "colab": {
          "base_uri": "https://localhost:8080/"
        },
        "id": "urban-festival",
        "outputId": "f9560906-dc6d-40b1-9ba4-63312296c4b6"
      },
      "source": [
        "!pip install imbalanced-learn "
      ],
      "id": "urban-festival",
      "execution_count": null,
      "outputs": [
        {
          "output_type": "stream",
          "name": "stdout",
          "text": [
            "Requirement already satisfied: imbalanced-learn in /usr/local/lib/python3.7/dist-packages (0.8.1)\n",
            "Requirement already satisfied: scikit-learn>=0.24 in /usr/local/lib/python3.7/dist-packages (from imbalanced-learn) (1.0.1)\n",
            "Requirement already satisfied: numpy>=1.13.3 in /usr/local/lib/python3.7/dist-packages (from imbalanced-learn) (1.19.5)\n",
            "Requirement already satisfied: joblib>=0.11 in /usr/local/lib/python3.7/dist-packages (from imbalanced-learn) (1.1.0)\n",
            "Requirement already satisfied: scipy>=0.19.1 in /usr/local/lib/python3.7/dist-packages (from imbalanced-learn) (1.4.1)\n",
            "Requirement already satisfied: threadpoolctl>=2.0.0 in /usr/local/lib/python3.7/dist-packages (from scikit-learn>=0.24->imbalanced-learn) (3.0.0)\n"
          ]
        }
      ]
    },
    {
      "cell_type": "code",
      "metadata": {
        "id": "external-royal"
      },
      "source": [
        "from collections import Counter \n",
        "from sklearn.svm import LinearSVC \n",
        "from imblearn.pipeline import make_pipeline \n",
        "from imblearn.base import BaseSampler \n",
        "from imblearn.over_sampling import (SMOTE, RandomOverSampler) \n",
        "#!pip install imbalanced-learn \n",
        "import imblearn \n",
        "from imblearn.over_sampling import SMOTE "
      ],
      "id": "external-royal",
      "execution_count": null,
      "outputs": []
    },
    {
      "cell_type": "code",
      "metadata": {
        "id": "involved-spirit"
      },
      "source": [
        "sm = SMOTE(random_state = 2) \n",
        "X_train_res, y_train_res = sm.fit_resample(x, y[\"thresholds_reached\"].ravel()) "
      ],
      "id": "involved-spirit",
      "execution_count": null,
      "outputs": []
    },
    {
      "cell_type": "code",
      "metadata": {
        "colab": {
          "base_uri": "https://localhost:8080/"
        },
        "id": "fixed-effects",
        "outputId": "d7e2eb7c-c928-4b38-a83e-df0a3a1fc058"
      },
      "source": [
        "print('After OverSampling, the shape of train_X: {}'.format(X_train_res.shape)) \n",
        "print('After OverSampling, the shape of train_y: {} \\n'.format(y_train_res.shape)) \n",
        "print(\"After OverSampling, counts of label '1': {}\".format(sum(y_train_res == 1))) \n",
        "print(\"After OverSampling, counts of label '0': {}\".format(sum(y_train_res == 0))) "
      ],
      "id": "fixed-effects",
      "execution_count": null,
      "outputs": [
        {
          "output_type": "stream",
          "name": "stdout",
          "text": [
            "After OverSampling, the shape of train_X: (1466, 4)\n",
            "After OverSampling, the shape of train_y: (1466,) \n",
            "\n",
            "After OverSampling, counts of label '1': 733\n",
            "After OverSampling, counts of label '0': 733\n"
          ]
        }
      ]
    },
    {
      "cell_type": "code",
      "metadata": {
        "colab": {
          "base_uri": "https://localhost:8080/",
          "height": 593
        },
        "id": "challenging-graham",
        "outputId": "8fde63e3-5537-4678-bac9-82c10504c7a7"
      },
      "source": [
        "import numpy as np; np.random.seed(0) \n",
        "import seaborn as sns; sns.set_theme() \n",
        "corrMatrix = df.corr() \n",
        "\n",
        "print (corrMatrix) \n",
        "ax = sns.heatmap(corrMatrix)"
      ],
      "id": "challenging-graham",
      "execution_count": null,
      "outputs": [
        {
          "output_type": "stream",
          "name": "stdout",
          "text": [
            "0                                          Alexandrium spp. \\ncells L-1\\n(PSP)  ...  thresholds_reached\n",
            "0                                                                               ...                    \n",
            "Alexandrium spp. \\ncells L-1\\n(PSP)                                   1.000000  ...            0.455902\n",
            "Dinophysiaceae \\ncells L-1\\n(DSP)                                     0.055174  ...            0.461656\n",
            "Prorocentrum lima \\ncells L-1\\n(DSP)                                 -0.008287  ...            0.140486\n",
            "Pseudo-nitzschia spp. \\ncells L-1\\n(ASP)                              0.019008  ...            0.258077\n",
            "NaN                                                                        NaN  ...                 NaN\n",
            "NaN                                                                        NaN  ...                 NaN\n",
            "thresholds_reached                                                    0.455902  ...            1.000000\n",
            "\n",
            "[7 rows x 7 columns]\n"
          ]
        },
        {
          "output_type": "display_data",
          "data": {
            "image/png": "[encoded data removed]",
            "text/plain": [
              "<Figure size 432x288 with 2 Axes>"
            ]
          },
          "metadata": {}
        }
      ]
    },
    {
      "cell_type": "code",
      "metadata": {
        "id": "pUuxaLAfhZMI"
      },
      "source": [
        ""
      ],
      "id": "pUuxaLAfhZMI",
      "execution_count": null,
      "outputs": []
    },
    {
      "cell_type": "markdown",
      "metadata": {
        "id": "1ac2rfVZhb4Q"
      },
      "source": [
        "# Building another neural network\n",
        "## Neural Network 1"
      ],
      "id": "1ac2rfVZhb4Q"
    },
    {
      "cell_type": "code",
      "metadata": {
        "colab": {
          "base_uri": "https://localhost:8080/"
        },
        "id": "hazardous-cathedral",
        "outputId": "637d6a64-8084-4719-a008-1321d3ad7fee"
      },
      "source": [
        "model_1 = Sequential() \n",
        "model_1.add(Dense(units=1000, activation='sigmoid', input_shape=(4,))) \n",
        "model_1.add(Dropout(0.5)) \n",
        "model_1.add(Dense(units=5, activation='sigmoid')) \n",
        "model_1.add(Dropout(0.2)) \n",
        "model_1.add(Dense(1, activation='sigmoid'))\n",
        "\n",
        "model_1.summary() \n",
        "model_1.compile(loss='binary_crossentropy', \n",
        "              optimizer='adam', \n",
        "              metrics=['accuracy'])"
      ],
      "id": "hazardous-cathedral",
      "execution_count": null,
      "outputs": [
        {
          "output_type": "stream",
          "name": "stdout",
          "text": [
            "Model: \"sequential_1\"\n",
            "_________________________________________________________________\n",
            " Layer (type)                Output Shape              Param #   \n",
            "=================================================================\n",
            " dense_3 (Dense)             (None, 1000)              5000      \n",
            "                                                                 \n",
            " dropout_2 (Dropout)         (None, 1000)              0         \n",
            "                                                                 \n",
            " dense_4 (Dense)             (None, 5)                 5005      \n",
            "                                                                 \n",
            " dropout_3 (Dropout)         (None, 5)                 0         \n",
            "                                                                 \n",
            " dense_5 (Dense)             (None, 1)                 6         \n",
            "                                                                 \n",
            "=================================================================\n",
            "Total params: 10,011\n",
            "Trainable params: 10,011\n",
            "Non-trainable params: 0\n",
            "_________________________________________________________________\n"
          ]
        }
      ]
    },
    {
      "cell_type": "code",
      "metadata": {
        "colab": {
          "base_uri": "https://localhost:8080/"
        },
        "id": "YDWh6q1JiG5F",
        "outputId": "5b8d030e-c774-40d4-a17e-48efa46d9811"
      },
      "source": [
        "%%time\n",
        "history = model_1.fit(x_train, y_train, \n",
        "                    batch_size=16, \n",
        "                    epochs=10, \n",
        "                    verbose=1, \n",
        "                    validation_data=(x_test, y_test))\n",
        "\n",
        "score = model_1.evaluate(x_test, y_test, verbose=0) \n",
        "print('Test loss:', score[0]) \n",
        "print('Test accuracy:', score[1])"
      ],
      "id": "YDWh6q1JiG5F",
      "execution_count": null,
      "outputs": [
        {
          "output_type": "stream",
          "name": "stdout",
          "text": [
            "Epoch 1/10\n",
            "42/42 [==============================] - 1s 6ms/step - loss: 0.4182 - accuracy: 0.8776 - val_loss: 0.3647 - val_accuracy: 0.8916\n",
            "Epoch 2/10\n",
            "42/42 [==============================] - 0s 3ms/step - loss: 0.3982 - accuracy: 0.8837 - val_loss: 0.3470 - val_accuracy: 0.8916\n",
            "Epoch 3/10\n",
            "42/42 [==============================] - 0s 3ms/step - loss: 0.3670 - accuracy: 0.8837 - val_loss: 0.3179 - val_accuracy: 0.8916\n",
            "Epoch 4/10\n",
            "42/42 [==============================] - 0s 3ms/step - loss: 0.3390 - accuracy: 0.8837 - val_loss: 0.3085 - val_accuracy: 0.8916\n",
            "Epoch 5/10\n",
            "42/42 [==============================] - 0s 3ms/step - loss: 0.3407 - accuracy: 0.8837 - val_loss: 0.2996 - val_accuracy: 0.8916\n",
            "Epoch 6/10\n",
            "42/42 [==============================] - 0s 3ms/step - loss: 0.3230 - accuracy: 0.8867 - val_loss: 0.2794 - val_accuracy: 0.8916\n",
            "Epoch 7/10\n",
            "42/42 [==============================] - 0s 3ms/step - loss: 0.2935 - accuracy: 0.9154 - val_loss: 0.2567 - val_accuracy: 0.9578\n",
            "Epoch 8/10\n",
            "42/42 [==============================] - 0s 3ms/step - loss: 0.2868 - accuracy: 0.9184 - val_loss: 0.2474 - val_accuracy: 0.9458\n",
            "Epoch 9/10\n",
            "42/42 [==============================] - 0s 3ms/step - loss: 0.2788 - accuracy: 0.9245 - val_loss: 0.2379 - val_accuracy: 0.9518\n",
            "Epoch 10/10\n",
            "42/42 [==============================] - 0s 3ms/step - loss: 0.2834 - accuracy: 0.9305 - val_loss: 0.2331 - val_accuracy: 0.9518\n",
            "Test loss: 0.23306028544902802\n",
            "Test accuracy: 0.9518072009086609\n",
            "CPU times: user 2.26 s, sys: 145 ms, total: 2.41 s\n",
            "Wall time: 2.18 s\n"
          ]
        }
      ]
    },
    {
      "cell_type": "code",
      "metadata": {
        "colab": {
          "base_uri": "https://localhost:8080/",
          "height": 501
        },
        "id": "hdrkQYB0iJXw",
        "outputId": "6ee55060-3fc1-460d-b6ef-9c67e0c2c457"
      },
      "source": [
        "epochs=10\n",
        "acc = history.history['accuracy'] \n",
        "val_acc = history.history['val_accuracy'] \n",
        "loss = history.history['loss'] \n",
        "val_loss = history.history['val_loss'] \n",
        "epochs_range = range(epochs) \n",
        "\n",
        "plt.figure(figsize=(8, 8)) \n",
        "plt.plot(epochs_range, acc, label='Training Accuracy') \n",
        "plt.plot(epochs_range, val_acc, label='Validation Accuracy') \n",
        "\n",
        "plt.legend(loc='lower right') \n",
        "plt.title('Training and Validation Accuracy for Neural Network 1') \n",
        "plt.plot(epochs_range, loss, label='Training Loss') \n",
        "plt.plot(epochs_range, val_loss, label='Validation Loss') \n",
        "plt.legend(loc='upper right') \n",
        "\n",
        "plt.title('Training and Validation Loss') \n",
        "plt.savefig(\"water_quality_nn.pdf\", dpi=100) \n",
        "plt.show()"
      ],
      "id": "hdrkQYB0iJXw",
      "execution_count": null,
      "outputs": [
        {
          "output_type": "display_data",
          "data": {
            "image/png": "[encoded data removed]",
            "text/plain": [
              "<Figure size 576x576 with 1 Axes>"
            ]
          },
          "metadata": {}
        }
      ]
    },
    {
      "cell_type": "code",
      "metadata": {
        "id": "Az0KvQTTiJ6V"
      },
      "source": [
        ""
      ],
      "id": "Az0KvQTTiJ6V",
      "execution_count": null,
      "outputs": []
    },
    {
      "cell_type": "markdown",
      "metadata": {
        "id": "M7x12qwmiXcz"
      },
      "source": [
        "## Neural Network 2"
      ],
      "id": "M7x12qwmiXcz"
    },
    {
      "cell_type": "code",
      "metadata": {
        "colab": {
          "base_uri": "https://localhost:8080/"
        },
        "id": "W3qW9bNBiJ8w",
        "outputId": "70908c44-a961-498a-f834-320fbb73d730"
      },
      "source": [
        "model = Sequential() \n",
        "model.add(Dense(units=1000, activation='tanh', input_shape=(4,))) \n",
        "model.add(Dropout(0.5)) \n",
        "model.add(Dense(units=20, activation='tanh')) \n",
        "model.add(Dropout(0.2)) \n",
        "model.add(Dense(units=5, activation='tanh')) \n",
        "model.add(Dropout(0.2))\n",
        "model.add(Dense(1, activation='tanh'))\n",
        "\n",
        "model.summary() \n",
        "model.compile(loss='binary_crossentropy', \n",
        "              optimizer='sgd', \n",
        "              metrics=['accuracy'])"
      ],
      "id": "W3qW9bNBiJ8w",
      "execution_count": null,
      "outputs": [
        {
          "output_type": "stream",
          "name": "stdout",
          "text": [
            "Model: \"sequential_2\"\n",
            "_________________________________________________________________\n",
            " Layer (type)                Output Shape              Param #   \n",
            "=================================================================\n",
            " dense_6 (Dense)             (None, 1000)              5000      \n",
            "                                                                 \n",
            " dropout_4 (Dropout)         (None, 1000)              0         \n",
            "                                                                 \n",
            " dense_7 (Dense)             (None, 20)                20020     \n",
            "                                                                 \n",
            " dropout_5 (Dropout)         (None, 20)                0         \n",
            "                                                                 \n",
            " dense_8 (Dense)             (None, 5)                 105       \n",
            "                                                                 \n",
            " dropout_6 (Dropout)         (None, 5)                 0         \n",
            "                                                                 \n",
            " dense_9 (Dense)             (None, 1)                 6         \n",
            "                                                                 \n",
            "=================================================================\n",
            "Total params: 25,131\n",
            "Trainable params: 25,131\n",
            "Non-trainable params: 0\n",
            "_________________________________________________________________\n"
          ]
        }
      ]
    },
    {
      "cell_type": "code",
      "metadata": {
        "colab": {
          "base_uri": "https://localhost:8080/"
        },
        "id": "vkKSZ0b1iJ_g",
        "outputId": "de821842-71be-4d04-8828-0fd3e7288caf"
      },
      "source": [
        "history = model.fit(x_train, y_train, \n",
        "                    batch_size=16, \n",
        "                    epochs=10, \n",
        "                    verbose=1, \n",
        "                    validation_data=(x_test, y_test))\n",
        "\n",
        "score = model.evaluate(x_test, y_test, verbose=0) \n",
        "print('Test loss:', score[0]) \n",
        "print('Test accuracy:', score[1])"
      ],
      "id": "vkKSZ0b1iJ_g",
      "execution_count": null,
      "outputs": [
        {
          "output_type": "stream",
          "name": "stdout",
          "text": [
            "Epoch 1/10\n",
            "42/42 [==============================] - 1s 7ms/step - loss: 1.4909 - accuracy: 0.8550 - val_loss: 1.4280 - val_accuracy: 0.8916\n",
            "Epoch 2/10\n",
            "42/42 [==============================] - 0s 3ms/step - loss: 1.2327 - accuracy: 0.8822 - val_loss: 0.8884 - val_accuracy: 0.8976\n",
            "Epoch 3/10\n",
            "42/42 [==============================] - 0s 3ms/step - loss: 1.1980 - accuracy: 0.7553 - val_loss: 0.8095 - val_accuracy: 0.9217\n",
            "Epoch 4/10\n",
            "42/42 [==============================] - 0s 3ms/step - loss: 0.8995 - accuracy: 0.8565 - val_loss: 0.8813 - val_accuracy: 0.9217\n",
            "Epoch 5/10\n",
            "42/42 [==============================] - 0s 3ms/step - loss: 1.0170 - accuracy: 0.7523 - val_loss: 0.4462 - val_accuracy: 0.5120\n",
            "Epoch 6/10\n",
            "42/42 [==============================] - 0s 3ms/step - loss: 0.8257 - accuracy: 0.7885 - val_loss: 0.2145 - val_accuracy: 0.9217\n",
            "Epoch 7/10\n",
            "42/42 [==============================] - 0s 3ms/step - loss: 0.8625 - accuracy: 0.8051 - val_loss: 0.8792 - val_accuracy: 0.9277\n",
            "Epoch 8/10\n",
            "42/42 [==============================] - 0s 3ms/step - loss: 0.7570 - accuracy: 0.8187 - val_loss: 0.2449 - val_accuracy: 0.9096\n",
            "Epoch 9/10\n",
            "42/42 [==============================] - 0s 3ms/step - loss: 0.7477 - accuracy: 0.8218 - val_loss: 0.2487 - val_accuracy: 0.9217\n",
            "Epoch 10/10\n",
            "42/42 [==============================] - 0s 3ms/step - loss: 0.6479 - accuracy: 0.8308 - val_loss: 0.7997 - val_accuracy: 0.9277\n",
            "Test loss: 0.7996509671211243\n",
            "Test accuracy: 0.9277108311653137\n"
          ]
        }
      ]
    },
    {
      "cell_type": "code",
      "metadata": {
        "colab": {
          "base_uri": "https://localhost:8080/",
          "height": 501
        },
        "id": "nJlnzQi6iKEQ",
        "outputId": "e04917b6-31fe-4dd8-cf3f-4866afe37e95"
      },
      "source": [
        "epochs=10\n",
        "acc = history.history['accuracy'] \n",
        "val_acc = history.history['val_accuracy'] \n",
        "loss = history.history['loss'] \n",
        "val_loss = history.history['val_loss'] \n",
        "epochs_range = range(epochs) \n",
        "\n",
        "plt.figure(figsize=(8, 8)) \n",
        "plt.plot(epochs_range, acc, label='Training Accuracy') \n",
        "plt.plot(epochs_range, val_acc, label='Validation Accuracy') \n",
        "\n",
        "plt.legend(loc='lower right') \n",
        "plt.title('Training and Validation Accuracy for Neural Network 2') \n",
        "plt.plot(epochs_range, loss, label='Training Loss') \n",
        "plt.plot(epochs_range, val_loss, label='Validation Loss') \n",
        "plt.legend(loc='upper right') \n",
        "\n",
        "plt.title('Training and Validation Loss') \n",
        "plt.savefig(\"water_quality_nn.pdf\", dpi=100) \n",
        "plt.show()"
      ],
      "id": "nJlnzQi6iKEQ",
      "execution_count": null,
      "outputs": [
        {
          "output_type": "display_data",
          "data": {
            "image/png": "[encoded data removed]",
            "text/plain": [
              "<Figure size 576x576 with 1 Axes>"
            ]
          },
          "metadata": {}
        }
      ]
    },
    {
      "cell_type": "markdown",
      "source": [
        "# Neural net 2B\n",
        "Considering activation on test loss and accuracy"
      ],
      "metadata": {
        "id": "KXP1iKxsMNYk"
      },
      "id": "KXP1iKxsMNYk"
    },
    {
      "cell_type": "code",
      "metadata": {
        "id": "GyF_8KGoiKHb",
        "colab": {
          "base_uri": "https://localhost:8080/"
        },
        "outputId": "53bfba0e-49c7-4b53-96bf-c29a0742f0b0"
      },
      "source": [
        "model = Sequential() \n",
        "model.add(Dense(units=1000, activation='tanh', input_shape=(4,))) \n",
        "model.add(Dropout(0.5)) \n",
        "model.add(Dense(units=20, activation='tanh')) \n",
        "model.add(Dropout(0.2)) \n",
        "model.add(Dense(units=5, activation='tanh')) \n",
        "model.add(Dropout(0.2))\n",
        "model.add(Dense(1, activation='tanh'))\n",
        "\n",
        "model.summary() \n",
        "model.compile(loss='binary_crossentropy', \n",
        "              optimizer='adam', \n",
        "              metrics=['accuracy'])"
      ],
      "id": "GyF_8KGoiKHb",
      "execution_count": null,
      "outputs": [
        {
          "output_type": "stream",
          "name": "stdout",
          "text": [
            "Model: \"sequential_3\"\n",
            "_________________________________________________________________\n",
            " Layer (type)                Output Shape              Param #   \n",
            "=================================================================\n",
            " dense_10 (Dense)            (None, 1000)              5000      \n",
            "                                                                 \n",
            " dropout_7 (Dropout)         (None, 1000)              0         \n",
            "                                                                 \n",
            " dense_11 (Dense)            (None, 20)                20020     \n",
            "                                                                 \n",
            " dropout_8 (Dropout)         (None, 20)                0         \n",
            "                                                                 \n",
            " dense_12 (Dense)            (None, 5)                 105       \n",
            "                                                                 \n",
            " dropout_9 (Dropout)         (None, 5)                 0         \n",
            "                                                                 \n",
            " dense_13 (Dense)            (None, 1)                 6         \n",
            "                                                                 \n",
            "=================================================================\n",
            "Total params: 25,131\n",
            "Trainable params: 25,131\n",
            "Non-trainable params: 0\n",
            "_________________________________________________________________\n"
          ]
        }
      ]
    },
    {
      "cell_type": "code",
      "metadata": {
        "id": "_04PXqLwiKJr",
        "colab": {
          "base_uri": "https://localhost:8080/"
        },
        "outputId": "974782e1-f9b3-4fcd-ade8-044bb88a61ca"
      },
      "source": [
        "history = model.fit(x_train, y_train, \n",
        "                    batch_size=16, \n",
        "                    epochs=10, \n",
        "                    verbose=1, \n",
        "                    validation_data=(x_test, y_test))\n",
        "\n",
        "score = model.evaluate(x_test, y_test, verbose=0) \n",
        "print('Test loss:', score[0]) \n",
        "print('Test accuracy:', score[1])"
      ],
      "id": "_04PXqLwiKJr",
      "execution_count": null,
      "outputs": [
        {
          "output_type": "stream",
          "name": "stdout",
          "text": [
            "Epoch 1/10\n",
            "42/42 [==============================] - 1s 7ms/step - loss: 1.4465 - accuracy: 0.8882 - val_loss: 1.4069 - val_accuracy: 0.9036\n",
            "Epoch 2/10\n",
            "42/42 [==============================] - 0s 3ms/step - loss: 1.2506 - accuracy: 0.9048 - val_loss: 0.8982 - val_accuracy: 0.9036\n",
            "Epoch 3/10\n",
            "42/42 [==============================] - 0s 3ms/step - loss: 0.8985 - accuracy: 0.9124 - val_loss: 0.7136 - val_accuracy: 0.9217\n",
            "Epoch 4/10\n",
            "42/42 [==============================] - 0s 3ms/step - loss: 0.8295 - accuracy: 0.9199 - val_loss: 0.6472 - val_accuracy: 0.9277\n",
            "Epoch 5/10\n",
            "42/42 [==============================] - 0s 3ms/step - loss: 0.8330 - accuracy: 0.9230 - val_loss: 0.6235 - val_accuracy: 0.9217\n",
            "Epoch 6/10\n",
            "42/42 [==============================] - 0s 3ms/step - loss: 0.7743 - accuracy: 0.9245 - val_loss: 0.6571 - val_accuracy: 0.9277\n",
            "Epoch 7/10\n",
            "42/42 [==============================] - 0s 3ms/step - loss: 0.7478 - accuracy: 0.9260 - val_loss: 0.6445 - val_accuracy: 0.9277\n",
            "Epoch 8/10\n",
            "42/42 [==============================] - 0s 3ms/step - loss: 0.8277 - accuracy: 0.9199 - val_loss: 0.6377 - val_accuracy: 0.9277\n",
            "Epoch 9/10\n",
            "42/42 [==============================] - 0s 4ms/step - loss: 0.8419 - accuracy: 0.9230 - val_loss: 0.6458 - val_accuracy: 0.9217\n",
            "Epoch 10/10\n",
            "42/42 [==============================] - 0s 3ms/step - loss: 0.7933 - accuracy: 0.9245 - val_loss: 0.6439 - val_accuracy: 0.9096\n",
            "Test loss: 0.6438941359519958\n",
            "Test accuracy: 0.9096385836601257\n"
          ]
        }
      ]
    },
    {
      "cell_type": "code",
      "metadata": {
        "id": "DJQ0HiabiKPG",
        "colab": {
          "base_uri": "https://localhost:8080/",
          "height": 501
        },
        "outputId": "8f911336-44bf-4e43-c99d-3b7d44e38bd2"
      },
      "source": [
        "epochs=10\n",
        "acc = history.history['accuracy'] \n",
        "val_acc = history.history['val_accuracy'] \n",
        "loss = history.history['loss'] \n",
        "val_loss = history.history['val_loss'] \n",
        "epochs_range = range(epochs) \n",
        "\n",
        "plt.figure(figsize=(8, 8)) \n",
        "plt.plot(epochs_range, acc, label='Training Accuracy') \n",
        "plt.plot(epochs_range, val_acc, label='Validation Accuracy') \n",
        "\n",
        "plt.legend(loc='lower right') \n",
        "plt.title('Training and Validation Accuracy for Neural Net 2B') \n",
        "plt.plot(epochs_range, loss, label='Training Loss') \n",
        "plt.plot(epochs_range, val_loss, label='Validation Loss') \n",
        "plt.legend(loc='upper right') \n",
        "\n",
        "plt.title('Training and Validation Loss') \n",
        "plt.savefig(\"water_quality_nn.pdf\", dpi=100) \n",
        "plt.show()"
      ],
      "id": "DJQ0HiabiKPG",
      "execution_count": null,
      "outputs": [
        {
          "output_type": "display_data",
          "data": {
            "image/png": "[encoded data removed]",
            "text/plain": [
              "<Figure size 576x576 with 1 Axes>"
            ]
          },
          "metadata": {}
        }
      ]
    },
    {
      "cell_type": "code",
      "metadata": {
        "id": "ZtCCq9l7iG76"
      },
      "source": [
        ""
      ],
      "id": "ZtCCq9l7iG76",
      "execution_count": null,
      "outputs": []
    },
    {
      "cell_type": "markdown",
      "metadata": {
        "id": "cbVvVcG8idvP"
      },
      "source": [
        "## Neural network 3"
      ],
      "id": "cbVvVcG8idvP"
    },
    {
      "cell_type": "code",
      "metadata": {
        "id": "C3C6dCpEiG-i",
        "colab": {
          "base_uri": "https://localhost:8080/"
        },
        "outputId": "0575b9d6-2215-418f-b750-9d89b96f4c49"
      },
      "source": [
        "model = Sequential() \n",
        "model.add(Dense(units=600, activation='sigmoid', input_shape=(4,))) \n",
        "model.add(Dropout(0.6)) \n",
        "model.add(Dense(units=30, activation='sigmoid')) \n",
        "model.add(Dropout(0.2)) \n",
        "model.add(Dense(units=10, activation='sigmoid')) \n",
        "model.add(Dropout(0.3)) \n",
        "model.add(Dense(1, activation='sigmoid'))\n",
        "\n",
        "model.summary() \n",
        "model.compile(loss='binary_crossentropy', \n",
        "              optimizer='adam', \n",
        "              metrics=['accuracy'])"
      ],
      "id": "C3C6dCpEiG-i",
      "execution_count": null,
      "outputs": [
        {
          "output_type": "stream",
          "name": "stdout",
          "text": [
            "Model: \"sequential_4\"\n",
            "_________________________________________________________________\n",
            " Layer (type)                Output Shape              Param #   \n",
            "=================================================================\n",
            " dense_14 (Dense)            (None, 600)               3000      \n",
            "                                                                 \n",
            " dropout_10 (Dropout)        (None, 600)               0         \n",
            "                                                                 \n",
            " dense_15 (Dense)            (None, 30)                18030     \n",
            "                                                                 \n",
            " dropout_11 (Dropout)        (None, 30)                0         \n",
            "                                                                 \n",
            " dense_16 (Dense)            (None, 10)                310       \n",
            "                                                                 \n",
            " dropout_12 (Dropout)        (None, 10)                0         \n",
            "                                                                 \n",
            " dense_17 (Dense)            (None, 1)                 11        \n",
            "                                                                 \n",
            "=================================================================\n",
            "Total params: 21,351\n",
            "Trainable params: 21,351\n",
            "Non-trainable params: 0\n",
            "_________________________________________________________________\n"
          ]
        }
      ]
    },
    {
      "cell_type": "code",
      "metadata": {
        "id": "aLiiqsdbiHBX",
        "colab": {
          "base_uri": "https://localhost:8080/"
        },
        "outputId": "f66ab2c8-4eec-4a26-c51e-f6dee2445c27"
      },
      "source": [
        "history = model.fit(x_train, y_train, \n",
        "                    batch_size=16, \n",
        "                    epochs=10, \n",
        "                    verbose=1, \n",
        "                    validation_data=(x_test, y_test))\n",
        "\n",
        "score = model.evaluate(x_test, y_test, verbose=0) \n",
        "print('Test loss:', score[0]) \n",
        "print('Test accuracy:', score[1])"
      ],
      "id": "aLiiqsdbiHBX",
      "execution_count": null,
      "outputs": [
        {
          "output_type": "stream",
          "name": "stdout",
          "text": [
            "Epoch 1/10\n",
            "42/42 [==============================] - 1s 7ms/step - loss: 0.4597 - accuracy: 0.8399 - val_loss: 0.3649 - val_accuracy: 0.8916\n",
            "Epoch 2/10\n",
            "42/42 [==============================] - 0s 3ms/step - loss: 0.3898 - accuracy: 0.8822 - val_loss: 0.3483 - val_accuracy: 0.8916\n",
            "Epoch 3/10\n",
            "42/42 [==============================] - 0s 3ms/step - loss: 0.3817 - accuracy: 0.8837 - val_loss: 0.3345 - val_accuracy: 0.8916\n",
            "Epoch 4/10\n",
            "42/42 [==============================] - 0s 4ms/step - loss: 0.3860 - accuracy: 0.8837 - val_loss: 0.3141 - val_accuracy: 0.8916\n",
            "Epoch 5/10\n",
            "42/42 [==============================] - 0s 3ms/step - loss: 0.3433 - accuracy: 0.8837 - val_loss: 0.2841 - val_accuracy: 0.8916\n",
            "Epoch 6/10\n",
            "42/42 [==============================] - 0s 3ms/step - loss: 0.3066 - accuracy: 0.8882 - val_loss: 0.2520 - val_accuracy: 0.8916\n",
            "Epoch 7/10\n",
            "42/42 [==============================] - 0s 3ms/step - loss: 0.2839 - accuracy: 0.9079 - val_loss: 0.2328 - val_accuracy: 0.9518\n",
            "Epoch 8/10\n",
            "42/42 [==============================] - 0s 3ms/step - loss: 0.2528 - accuracy: 0.9215 - val_loss: 0.2178 - val_accuracy: 0.9458\n",
            "Epoch 9/10\n",
            "42/42 [==============================] - 0s 3ms/step - loss: 0.2339 - accuracy: 0.9260 - val_loss: 0.2131 - val_accuracy: 0.9337\n",
            "Epoch 10/10\n",
            "42/42 [==============================] - 0s 3ms/step - loss: 0.2279 - accuracy: 0.9335 - val_loss: 0.2042 - val_accuracy: 0.9518\n",
            "Test loss: 0.20418980717658997\n",
            "Test accuracy: 0.9518072009086609\n"
          ]
        }
      ]
    },
    {
      "cell_type": "code",
      "metadata": {
        "id": "y50unm4liHDw",
        "colab": {
          "base_uri": "https://localhost:8080/",
          "height": 501
        },
        "outputId": "bd4de1cb-19ab-4038-f407-297799916d83"
      },
      "source": [
        "epochs=10\n",
        "acc = history.history['accuracy'] \n",
        "val_acc = history.history['val_accuracy'] \n",
        "loss = history.history['loss'] \n",
        "val_loss = history.history['val_loss'] \n",
        "epochs_range = range(epochs) \n",
        "\n",
        "plt.figure(figsize=(8, 8)) \n",
        "plt.plot(epochs_range, acc, label='Training Accuracy') \n",
        "plt.plot(epochs_range, val_acc, label='Validation Accuracy') \n",
        "\n",
        "plt.legend(loc='lower right') \n",
        "plt.title('Training and Validation Accuracy for Neural Network 3') \n",
        "plt.plot(epochs_range, loss, label='Training Loss') \n",
        "plt.plot(epochs_range, val_loss, label='Validation Loss') \n",
        "plt.legend(loc='upper right') \n",
        "\n",
        "plt.title('Training and Validation Loss') \n",
        "plt.savefig(\"water_quality_nn.pdf\", dpi=100) \n",
        "plt.show()"
      ],
      "id": "y50unm4liHDw",
      "execution_count": null,
      "outputs": [
        {
          "output_type": "display_data",
          "data": {
            "image/png": "[encoded data removed]",
            "text/plain": [
              "<Figure size 576x576 with 1 Axes>"
            ]
          },
          "metadata": {}
        }
      ]
    },
    {
      "cell_type": "code",
      "metadata": {
        "id": "KVjCMoN8iHHl"
      },
      "source": [
        ""
      ],
      "id": "KVjCMoN8iHHl",
      "execution_count": null,
      "outputs": []
    },
    {
      "cell_type": "code",
      "source": [
        ""
      ],
      "metadata": {
        "id": "g2AGpl5rZmfU"
      },
      "id": "g2AGpl5rZmfU",
      "execution_count": null,
      "outputs": []
    },
    {
      "cell_type": "markdown",
      "source": [
        "\n",
        "## more than 4 layers\n"
      ],
      "metadata": {
        "id": "O40siASnaKFC"
      },
      "id": "O40siASnaKFC"
    },
    {
      "cell_type": "code",
      "source": [
        "%%time\n",
        "model = Sequential() \n",
        "model.add(Dense(units=1000, activation='tanh', input_shape=(4,))) \n",
        "model.add(Dropout(0.5)) \n",
        "model.add(Dense(units=600, activation='tanh')) \n",
        "model.add(Dropout(0.3)) \n",
        "model.add(Dense(units=300, activation='tanh')) \n",
        "model.add(Dropout(0.3)) \n",
        "model.add(Dense(units=100, activation='tanh')) \n",
        "model.add(Dropout(0.2)) \n",
        "model.add(Dense(units=50, activation='tanh')) \n",
        "model.add(Dropout(0.2)) \n",
        "model.add(Dense(units=30, activation='tanh')) \n",
        "model.add(Dropout(0.1)) \n",
        "model.add(Dense(1, activation='tanh'))\n",
        "\n",
        "model.summary() \n",
        "model.compile(loss='binary_crossentropy', \n",
        "              optimizer='adam', \n",
        "              metrics=['accuracy'])"
      ],
      "metadata": {
        "colab": {
          "base_uri": "https://localhost:8080/"
        },
        "id": "Ps4AmEA--YpL",
        "outputId": "0e99655e-ed7c-4762-802c-12cc08976627"
      },
      "id": "Ps4AmEA--YpL",
      "execution_count": null,
      "outputs": [
        {
          "output_type": "stream",
          "name": "stdout",
          "text": [
            "Model: \"sequential_5\"\n",
            "_________________________________________________________________\n",
            " Layer (type)                Output Shape              Param #   \n",
            "=================================================================\n",
            " dense_18 (Dense)            (None, 1000)              5000      \n",
            "                                                                 \n",
            " dropout_13 (Dropout)        (None, 1000)              0         \n",
            "                                                                 \n",
            " dense_19 (Dense)            (None, 600)               600600    \n",
            "                                                                 \n",
            " dropout_14 (Dropout)        (None, 600)               0         \n",
            "                                                                 \n",
            " dense_20 (Dense)            (None, 300)               180300    \n",
            "                                                                 \n",
            " dropout_15 (Dropout)        (None, 300)               0         \n",
            "                                                                 \n",
            " dense_21 (Dense)            (None, 100)               30100     \n",
            "                                                                 \n",
            " dropout_16 (Dropout)        (None, 100)               0         \n",
            "                                                                 \n",
            " dense_22 (Dense)            (None, 50)                5050      \n",
            "                                                                 \n",
            " dropout_17 (Dropout)        (None, 50)                0         \n",
            "                                                                 \n",
            " dense_23 (Dense)            (None, 30)                1530      \n",
            "                                                                 \n",
            " dropout_18 (Dropout)        (None, 30)                0         \n",
            "                                                                 \n",
            " dense_24 (Dense)            (None, 1)                 31        \n",
            "                                                                 \n",
            "=================================================================\n",
            "Total params: 822,611\n",
            "Trainable params: 822,611\n",
            "Non-trainable params: 0\n",
            "_________________________________________________________________\n",
            "CPU times: user 105 ms, sys: 7.85 ms, total: 113 ms\n",
            "Wall time: 103 ms\n"
          ]
        }
      ]
    },
    {
      "cell_type": "code",
      "source": [
        "%%time\n",
        "history = model.fit(x_train, y_train, \n",
        "                    batch_size=16, \n",
        "                    epochs=10, \n",
        "                    verbose=1, \n",
        "                    validation_data=(x_test, y_test))\n",
        "\n",
        "score = model.evaluate(x_test, y_test, verbose=0) \n",
        "print('Test loss:', score[0]) \n",
        "print('Test accuracy:', score[1])"
      ],
      "metadata": {
        "colab": {
          "base_uri": "https://localhost:8080/"
        },
        "id": "-VWQFHOoZo_O",
        "outputId": "0e72e257-55db-482f-c821-27a401456d2a"
      },
      "id": "-VWQFHOoZo_O",
      "execution_count": null,
      "outputs": [
        {
          "output_type": "stream",
          "name": "stdout",
          "text": [
            "Epoch 1/10\n",
            "42/42 [==============================] - 1s 16ms/step - loss: 1.4918 - accuracy: 0.8973 - val_loss: 1.4100 - val_accuracy: 0.9036\n",
            "Epoch 2/10\n",
            "42/42 [==============================] - 1s 12ms/step - loss: 1.2153 - accuracy: 0.8474 - val_loss: 1.4090 - val_accuracy: 0.9036\n",
            "Epoch 3/10\n",
            "42/42 [==============================] - 0s 11ms/step - loss: 1.4387 - accuracy: 0.9003 - val_loss: 1.4034 - val_accuracy: 0.9036\n",
            "Epoch 4/10\n",
            "42/42 [==============================] - 0s 11ms/step - loss: 1.3874 - accuracy: 0.9063 - val_loss: 1.4060 - val_accuracy: 0.9036\n",
            "Epoch 5/10\n",
            "42/42 [==============================] - 1s 12ms/step - loss: 1.5153 - accuracy: 0.9018 - val_loss: 1.4868 - val_accuracy: 0.9036\n",
            "Epoch 6/10\n",
            "42/42 [==============================] - 0s 11ms/step - loss: 1.4705 - accuracy: 0.9033 - val_loss: 1.4024 - val_accuracy: 0.9036\n",
            "Epoch 7/10\n",
            "42/42 [==============================] - 0s 12ms/step - loss: 1.2912 - accuracy: 0.9048 - val_loss: 1.4085 - val_accuracy: 0.9036\n",
            "Epoch 8/10\n",
            "42/42 [==============================] - 0s 12ms/step - loss: 1.2312 - accuracy: 0.9048 - val_loss: 1.4102 - val_accuracy: 0.9036\n",
            "Epoch 9/10\n",
            "42/42 [==============================] - 0s 11ms/step - loss: 1.3919 - accuracy: 0.9033 - val_loss: 1.4188 - val_accuracy: 0.9036\n",
            "Epoch 10/10\n",
            "42/42 [==============================] - 1s 12ms/step - loss: 1.3862 - accuracy: 0.9079 - val_loss: 1.4173 - val_accuracy: 0.9036\n",
            "Test loss: 1.4172589778900146\n",
            "Test accuracy: 0.9036144614219666\n",
            "CPU times: user 7.75 s, sys: 418 ms, total: 8.17 s\n",
            "Wall time: 6.04 s\n"
          ]
        }
      ]
    },
    {
      "cell_type": "code",
      "source": [
        "epochs=10\n",
        "acc = history.history['accuracy'] \n",
        "val_acc = history.history['val_accuracy'] \n",
        "loss = history.history['loss'] \n",
        "val_loss = history.history['val_loss'] \n",
        "epochs_range = range(epochs) \n",
        "\n",
        "plt.figure(figsize=(8, 8)) \n",
        "plt.plot(epochs_range, acc, label='Training Accuracy') \n",
        "plt.plot(epochs_range, val_acc, label='Validation Accuracy') \n",
        "\n",
        "plt.legend(loc='lower right') \n",
        "plt.title('Training and Validation Accuracy') \n",
        "plt.plot(epochs_range, loss, label='Training Loss') \n",
        "plt.plot(epochs_range, val_loss, label='Validation Loss') \n",
        "plt.legend(loc='upper right') \n",
        "\n",
        "plt.title('Training and Validation Loss') \n",
        "plt.savefig(\"water_quality_nn.pdf\", dpi=100) \n",
        "plt.show()"
      ],
      "metadata": {
        "colab": {
          "base_uri": "https://localhost:8080/",
          "height": 501
        },
        "id": "01Mg5RKRZpCX",
        "outputId": "da683bc6-8148-4656-8f65-55096cabdfb0"
      },
      "id": "01Mg5RKRZpCX",
      "execution_count": null,
      "outputs": [
        {
          "output_type": "display_data",
          "data": {
            "image/png": "[encoded data removed]",
            "text/plain": [
              "<Figure size 576x576 with 1 Axes>"
            ]
          },
          "metadata": {}
        }
      ]
    },
    {
      "cell_type": "code",
      "source": [
        ""
      ],
      "metadata": {
        "id": "EiWACX1vE4g7"
      },
      "id": "EiWACX1vE4g7",
      "execution_count": null,
      "outputs": []
    },
    {
      "cell_type": "code",
      "source": [
        ""
      ],
      "metadata": {
        "id": "vl0Lkm6ME4t-"
      },
      "id": "vl0Lkm6ME4t-",
      "execution_count": null,
      "outputs": []
    }
  ]
}